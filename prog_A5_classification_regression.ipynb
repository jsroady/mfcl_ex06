{
 "cells": [
  {
   "cell_type": "markdown",
   "metadata": {},
   "source": [
    "# Assignment 5 - Programming Exercise Classification and Regression"
   ]
  },
  {
   "cell_type": "markdown",
   "metadata": {},
   "source": [
    "1. Given the hyperplane $f(x) = 2x_1 + 1.5x_2 - 1$ ($w_1 = 2$, $w_2 = 1.5$) and vectors $\\vec{v_1} = (3,4)$ belonging to **CLASS+** and $\\vec{v_2} = (1,8)$ belonging to **CLASS-**:<br>\n",
    "\n",
    "    (i) What is the predicted class of $\\vec{v_1}$ and $\\vec{v_2}$? Include all steps in your solution."
   ]
  },
  {
   "cell_type": "code",
   "execution_count": null,
   "metadata": {},
   "outputs": [],
   "source": [
    "# Import statements\n",
    "import matplotlib.pyplot as plt\n",
    "import numpy as np"
   ]
  },
  {
   "cell_type": "code",
   "execution_count": null,
   "metadata": {},
   "outputs": [],
   "source": [
    "### SUBTASK 1. (i) ###\n",
    "\n",
    "# Defining the function used for classification\n",
    "## TO-DO ##"
   ]
  },
  {
   "cell_type": "code",
   "execution_count": null,
   "metadata": {},
   "outputs": [],
   "source": [
    "# Defining the points\n",
    "## TO-DO ##\n",
    "\n",
    "# Calling the f(p) function once for each point\n",
    "## TO-DO ##\n",
    "\n",
    "# Printing of the predicted classes\n",
    "## TO-DO ##"
   ]
  },
  {
   "cell_type": "code",
   "execution_count": null,
   "metadata": {},
   "outputs": [],
   "source": [
    "# Answer to Question 1.(i): ## TO-DO ##"
   ]
  },
  {
   "cell_type": "markdown",
   "metadata": {},
   "source": [
    "   (ii) What is the error of $f(x)$ given these vectors?"
   ]
  },
  {
   "cell_type": "code",
   "execution_count": null,
   "metadata": {},
   "outputs": [],
   "source": [
    "### SUBTASK 1. (ii) ###\n",
    "\n",
    "# Defining the points\n",
    "## TO-DO ##\n",
    "\n",
    "# Our starting weight vector, including the bias\n",
    "## TO-DO ##\n",
    "\n",
    "# Defining the cost(error)\n",
    "## TO-DO ##"
   ]
  },
  {
   "cell_type": "markdown",
   "metadata": {},
   "source": [
    "   (iii) Determine $\\Delta w_1$ and determine the updated $w_1$ on that basis.Use $\\eta = 0.1$."
   ]
  },
  {
   "cell_type": "code",
   "execution_count": null,
   "metadata": {},
   "outputs": [],
   "source": [
    "### SUBTASK 1. (iii) ###\n",
    "\n",
    "# Calculating delta w (change of the weight)\n",
    "## TO-DO ##"
   ]
  },
  {
   "cell_type": "code",
   "execution_count": null,
   "metadata": {},
   "outputs": [],
   "source": [
    "# Defining the learning rate\n",
    "## TO-DO ## \n",
    " \n",
    "# Minimizing the error (weight adaptation)\n",
    "## TO-DO ##"
   ]
  },
  {
   "cell_type": "code",
   "execution_count": null,
   "metadata": {},
   "outputs": [],
   "source": [
    "# Printing out the final weight\n",
    "## TO-DO ##"
   ]
  }
 ],
 "metadata": {
  "kernelspec": {
   "display_name": "Python 3",
   "language": "python",
   "name": "python3"
  },
  "language_info": {
   "codemirror_mode": {
    "name": "ipython",
    "version": 3
   },
   "file_extension": ".py",
   "mimetype": "text/x-python",
   "name": "python",
   "nbconvert_exporter": "python",
   "pygments_lexer": "ipython3",
   "version": "3.8.3"
  }
 },
 "nbformat": 4,
 "nbformat_minor": 4
}
